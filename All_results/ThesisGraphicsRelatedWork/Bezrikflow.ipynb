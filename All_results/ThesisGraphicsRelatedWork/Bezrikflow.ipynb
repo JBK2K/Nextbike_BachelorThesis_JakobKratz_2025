{
 "cells": [
  {
   "cell_type": "code",
   "execution_count": 57,
   "id": "f268b979",
   "metadata": {},
   "outputs": [
    {
     "name": "stdout",
     "output_type": "stream",
     "text": [
      " Bike-Number         Rental-Time        Rental-Type                                     Rental-Location  Rental-Lat  Rental-Lng         Return-Time        Return-Type                  Return-Location  Return-Lat  Return-Lng  Duration-Minutes   Movement-Type\n",
      "      100245 2025-07-23 21:56:39 Station (virtuell)                            U Schlesisches Tor (Ost)   52.500794   13.442182 2025-07-23 22:08:17 Station (virtuell)        Elsenstraße/Harzer Straße   52.485136   13.449063              11.6 Station:Station\n",
      "       13167 2025-07-23 20:22:59 Station (virtuell)                           Elsenstraße/Harzer Straße   52.485136   13.449063 2025-07-23 22:08:17 Station (virtuell) Modersohnstraße (Am Rudolfplatz)   52.502492   13.456503             105.3 Station:Station\n",
      "       19766 2025-07-23 21:56:31 Station (physisch) Jelbi S+U Zoologischer Garten/Jebensstraße (CHA/JE)   52.506622   13.331480 2025-07-23 22:08:26 Station (virtuell)  Franklinstraße/Glutenbergstraße   52.518675   13.326239              11.9 Station:Station\n",
      "       17851 2025-07-23 21:49:59 Station (virtuell)          Jelbi Marie-Elisabeth-Lüders-Haus (MIT/ML)   52.520840   13.377520 2025-07-23 22:08:26 Station (physisch)               Merseburger Straße   52.488525   13.352451              18.4 Station:Station\n",
      "       13409 2025-07-23 22:06:53 Station (virtuell)                      Wiener Straße (Spreewaldplatz)   52.497451   13.432097 2025-07-23 22:08:34 Station (virtuell)   Wiener Straße (Spreewaldplatz)   52.497451   13.432097               1.7 Station:Station\n",
      "Length of the dataframe before cleaning: 209693\n",
      " Bike-Number         Rental-Time        Rental-Type                                     Rental-Location  Rental-Lat  Rental-Lng         Return-Time        Return-Type                  Return-Location  Return-Lat  Return-Lng  Duration-Minutes   Movement-Type  weekday_idx  is_weekend  hour\n",
      "      100245 2025-07-23 21:56:39 Station (virtuell)                            U Schlesisches Tor (Ost)   52.500794   13.442182 2025-07-23 22:08:17 Station (virtuell)        Elsenstraße/Harzer Straße   52.485136   13.449063              11.6 Station:Station            2       False    21\n",
      "       13167 2025-07-23 20:22:59 Station (virtuell)                           Elsenstraße/Harzer Straße   52.485136   13.449063 2025-07-23 22:08:17 Station (virtuell) Modersohnstraße (Am Rudolfplatz)   52.502492   13.456503             105.3 Station:Station            2       False    20\n",
      "       19766 2025-07-23 21:56:31 Station (physisch) Jelbi S+U Zoologischer Garten/Jebensstraße (CHA/JE)   52.506622   13.331480 2025-07-23 22:08:26 Station (virtuell)  Franklinstraße/Glutenbergstraße   52.518675   13.326239              11.9 Station:Station            2       False    21\n",
      "       17851 2025-07-23 21:49:59 Station (virtuell)          Jelbi Marie-Elisabeth-Lüders-Haus (MIT/ML)   52.520840   13.377520 2025-07-23 22:08:26 Station (physisch)               Merseburger Straße   52.488525   13.352451              18.4 Station:Station            2       False    21\n",
      "       10564 2025-07-23 21:57:30 Station (virtuell)              Luxemburger Straße (Atze Musiktheater)   52.543288   13.352235 2025-07-23 22:08:53 Station (virtuell)                   S Humboldthain   52.544556   13.378611              11.4 Station:Station            2       False    21\n",
      "Length of the dataframe after cleaning: 167799\n"
     ]
    }
   ],
   "source": [
    "import pandas as pd, numpy as np\n",
    "\n",
    "trip_sheet = '/DATA/TripAnalysis/nextbike_trips.csv'\n",
    "\n",
    "#before cleaning\n",
    "trip_df = pd.read_csv(trip_sheet.lstrip('/'))\n",
    "print(trip_df.head(5).to_string(index=False))\n",
    "print(f\"Length of the dataframe before cleaning: {len(trip_df)}\")\n",
    "\n",
    "trip_df = (\n",
    "    pd.read_csv(trip_sheet.lstrip('/'))\n",
    "      .pipe(lambda d: d.rename(columns={c: c.strip() for c in d.columns}))\n",
    "      .assign(**{\n",
    "          'Duration-Minutes': lambda d: pd.to_numeric(d['Duration-Minutes'], errors='coerce'),\n",
    "          'Rental-Lat':       lambda d: pd.to_numeric(d['Rental-Lat'], errors='coerce'),\n",
    "          'Rental-Lng':       lambda d: pd.to_numeric(d['Rental-Lng'], errors='coerce'),\n",
    "          'Return-Lat':       lambda d: pd.to_numeric(d['Return-Lat'], errors='coerce'),\n",
    "          'Return-Lng':       lambda d: pd.to_numeric(d['Return-Lng'], errors='coerce'),\n",
    "      })\n",
    "      .loc[lambda d: ~d.apply(lambda r: r.astype(str).str.contains('unbekannt', case=False).any(), axis=1)]\n",
    "      .loc[lambda d: d['Duration-Minutes'] > 2]\n",
    "      .loc[lambda d: ~((d['Rental-Lat'] == d['Return-Lat']) & (d['Rental-Lng'] == d['Return-Lng']))]\n",
    "      .assign(**{\n",
    "          'Rental-Time': lambda d: pd.to_datetime(d['Rental-Time'], errors='coerce'),\n",
    "          'weekday_idx': lambda d: d['Rental-Time'].dt.weekday,\n",
    "          'is_weekend':  lambda d: d['weekday_idx'] >= 5,\n",
    "          'hour':        lambda d: d['Rental-Time'].dt.hour,\n",
    "      })\n",
    "      .reset_index(drop=True)\n",
    ")\n",
    "\n",
    "print(trip_df.head(5).to_string(index=False))\n",
    "print(f\"Length of the dataframe after cleaning: {len(trip_df)}\")"
   ]
  },
  {
   "cell_type": "code",
   "execution_count": 58,
   "id": "1f2c679d",
   "metadata": {},
   "outputs": [
    {
     "data": {
      "application/vnd.plotly.v1+json": {
       "config": {
        "plotlyServerURL": "https://plot.ly"
       },
       "data": [
        {
         "link": {
          "color": [
           "rgb(141,211,199)",
           "rgb(141,211,199)",
           "rgb(141,211,199)",
           "rgb(141,211,199)",
           "rgb(141,211,199)",
           "rgb(141,211,199)",
           "rgb(141,211,199)",
           "rgb(141,211,199)",
           "rgb(141,211,199)",
           "rgb(141,211,199)",
           "rgb(255,255,179)",
           "rgb(255,255,179)",
           "rgb(255,255,179)",
           "rgb(255,255,179)",
           "rgb(255,255,179)",
           "rgb(255,255,179)",
           "rgb(255,255,179)",
           "rgb(255,255,179)",
           "rgb(255,255,179)",
           "rgb(255,255,179)",
           "rgb(190,186,218)",
           "rgb(190,186,218)",
           "rgb(190,186,218)",
           "rgb(190,186,218)",
           "rgb(190,186,218)",
           "rgb(190,186,218)",
           "rgb(190,186,218)",
           "rgb(190,186,218)",
           "rgb(190,186,218)",
           "rgb(251,128,114)",
           "rgb(251,128,114)",
           "rgb(251,128,114)",
           "rgb(128,177,211)",
           "rgb(128,177,211)",
           "rgb(128,177,211)",
           "rgb(128,177,211)",
           "rgb(128,177,211)",
           "rgb(128,177,211)",
           "rgb(128,177,211)",
           "rgb(128,177,211)",
           "rgb(128,177,211)",
           "rgb(128,177,211)",
           "rgb(128,177,211)",
           "rgb(253,180,98)",
           "rgb(253,180,98)",
           "rgb(253,180,98)",
           "rgb(253,180,98)",
           "rgb(253,180,98)",
           "rgb(253,180,98)",
           "rgb(253,180,98)",
           "rgb(253,180,98)",
           "rgb(253,180,98)",
           "rgb(179,222,105)",
           "rgb(179,222,105)",
           "rgb(179,222,105)",
           "rgb(179,222,105)",
           "rgb(179,222,105)",
           "rgb(179,222,105)",
           "rgb(179,222,105)",
           "rgb(179,222,105)",
           "rgb(179,222,105)",
           "rgb(252,205,229)",
           "rgb(252,205,229)",
           "rgb(252,205,229)",
           "rgb(252,205,229)",
           "rgb(217,217,217)",
           "rgb(217,217,217)",
           "rgb(217,217,217)",
           "rgb(188,128,189)",
           "rgb(188,128,189)",
           "rgb(188,128,189)",
           "rgb(188,128,189)",
           "rgb(188,128,189)",
           "rgb(188,128,189)",
           "rgb(204,235,197)",
           "rgb(204,235,197)",
           "rgb(204,235,197)",
           "rgb(204,235,197)",
           "rgb(204,235,197)",
           "rgb(204,235,197)",
           "rgb(204,235,197)",
           "rgb(204,235,197)",
           "rgb(204,235,197)",
           "rgb(255,237,111)",
           "rgb(255,237,111)",
           "rgb(255,237,111)",
           "rgb(255,237,111)",
           "rgb(255,237,111)",
           "rgb(255,237,111)",
           "rgb(255,237,111)",
           "rgb(255,237,111)"
          ],
          "customdata": [
           "Start: Charlottenburg-Wilmersdorf (Start)<br>Ende: Charlottenburg-Wilmersdorf (End)<br>Fahrten: 9165<br>Anteil: 5.47%",
           "Start: Charlottenburg-Wilmersdorf (Start)<br>Ende: Friedrichshain-Kreuzberg (End)<br>Fahrten: 525<br>Anteil: 0.31%",
           "Start: Charlottenburg-Wilmersdorf (Start)<br>Ende: Mitte (End)<br>Fahrten: 2676<br>Anteil: 1.60%",
           "Start: Charlottenburg-Wilmersdorf (Start)<br>Ende: Neukölln (End)<br>Fahrten: 104<br>Anteil: 0.06%",
           "Start: Charlottenburg-Wilmersdorf (Start)<br>Ende: Pankow (End)<br>Fahrten: 79<br>Anteil: 0.05%",
           "Start: Charlottenburg-Wilmersdorf (Start)<br>Ende: Reinickendorf (End)<br>Fahrten: 12<br>Anteil: 0.01%",
           "Start: Charlottenburg-Wilmersdorf (Start)<br>Ende: Spandau (End)<br>Fahrten: 82<br>Anteil: 0.05%",
           "Start: Charlottenburg-Wilmersdorf (Start)<br>Ende: Steglitz-Zehlendorf (End)<br>Fahrten: 258<br>Anteil: 0.15%",
           "Start: Charlottenburg-Wilmersdorf (Start)<br>Ende: Tempelhof-Schöneberg (End)<br>Fahrten: 1376<br>Anteil: 0.82%",
           "Start: Charlottenburg-Wilmersdorf (Start)<br>Ende: Treptow-Köpenick (End)<br>Fahrten: 14<br>Anteil: 0.01%",
           "Start: Friedrichshain-Kreuzberg (Start)<br>Ende: Charlottenburg-Wilmersdorf (End)<br>Fahrten: 478<br>Anteil: 0.29%",
           "Start: Friedrichshain-Kreuzberg (Start)<br>Ende: Friedrichshain-Kreuzberg (End)<br>Fahrten: 23471<br>Anteil: 14.00%",
           "Start: Friedrichshain-Kreuzberg (Start)<br>Ende: Lichtenberg (End)<br>Fahrten: 1853<br>Anteil: 1.11%",
           "Start: Friedrichshain-Kreuzberg (Start)<br>Ende: Marzahn-Hellersdorf (End)<br>Fahrten: 15<br>Anteil: 0.01%",
           "Start: Friedrichshain-Kreuzberg (Start)<br>Ende: Mitte (End)<br>Fahrten: 6730<br>Anteil: 4.01%",
           "Start: Friedrichshain-Kreuzberg (Start)<br>Ende: Neukölln (End)<br>Fahrten: 5586<br>Anteil: 3.33%",
           "Start: Friedrichshain-Kreuzberg (Start)<br>Ende: Pankow (End)<br>Fahrten: 1594<br>Anteil: 0.95%",
           "Start: Friedrichshain-Kreuzberg (Start)<br>Ende: Steglitz-Zehlendorf (End)<br>Fahrten: 53<br>Anteil: 0.03%",
           "Start: Friedrichshain-Kreuzberg (Start)<br>Ende: Tempelhof-Schöneberg (End)<br>Fahrten: 1632<br>Anteil: 0.97%",
           "Start: Friedrichshain-Kreuzberg (Start)<br>Ende: Treptow-Köpenick (End)<br>Fahrten: 1521<br>Anteil: 0.91%",
           "Start: Lichtenberg (Start)<br>Ende: Charlottenburg-Wilmersdorf (End)<br>Fahrten: 15<br>Anteil: 0.01%",
           "Start: Lichtenberg (Start)<br>Ende: Friedrichshain-Kreuzberg (End)<br>Fahrten: 1731<br>Anteil: 1.03%",
           "Start: Lichtenberg (Start)<br>Ende: Lichtenberg (End)<br>Fahrten: 6979<br>Anteil: 4.16%",
           "Start: Lichtenberg (Start)<br>Ende: Marzahn-Hellersdorf (End)<br>Fahrten: 47<br>Anteil: 0.03%",
           "Start: Lichtenberg (Start)<br>Ende: Mitte (End)<br>Fahrten: 266<br>Anteil: 0.16%",
           "Start: Lichtenberg (Start)<br>Ende: Neukölln (End)<br>Fahrten: 228<br>Anteil: 0.14%",
           "Start: Lichtenberg (Start)<br>Ende: Pankow (End)<br>Fahrten: 250<br>Anteil: 0.15%",
           "Start: Lichtenberg (Start)<br>Ende: Tempelhof-Schöneberg (End)<br>Fahrten: 31<br>Anteil: 0.02%",
           "Start: Lichtenberg (Start)<br>Ende: Treptow-Köpenick (End)<br>Fahrten: 463<br>Anteil: 0.28%",
           "Start: Marzahn-Hellersdorf (Start)<br>Ende: Friedrichshain-Kreuzberg (End)<br>Fahrten: 16<br>Anteil: 0.01%",
           "Start: Marzahn-Hellersdorf (Start)<br>Ende: Lichtenberg (End)<br>Fahrten: 45<br>Anteil: 0.03%",
           "Start: Marzahn-Hellersdorf (Start)<br>Ende: Marzahn-Hellersdorf (End)<br>Fahrten: 67<br>Anteil: 0.04%",
           "Start: Mitte (Start)<br>Ende: Charlottenburg-Wilmersdorf (End)<br>Fahrten: 2840<br>Anteil: 1.69%",
           "Start: Mitte (Start)<br>Ende: Friedrichshain-Kreuzberg (End)<br>Fahrten: 7044<br>Anteil: 4.20%",
           "Start: Mitte (Start)<br>Ende: Lichtenberg (End)<br>Fahrten: 263<br>Anteil: 0.16%",
           "Start: Mitte (Start)<br>Ende: Mitte (End)<br>Fahrten: 30499<br>Anteil: 18.19%",
           "Start: Mitte (Start)<br>Ende: Neukölln (End)<br>Fahrten: 1009<br>Anteil: 0.60%",
           "Start: Mitte (Start)<br>Ende: Pankow (End)<br>Fahrten: 3646<br>Anteil: 2.17%",
           "Start: Mitte (Start)<br>Ende: Reinickendorf (End)<br>Fahrten: 260<br>Anteil: 0.16%",
           "Start: Mitte (Start)<br>Ende: Spandau (End)<br>Fahrten: 39<br>Anteil: 0.02%",
           "Start: Mitte (Start)<br>Ende: Steglitz-Zehlendorf (End)<br>Fahrten: 38<br>Anteil: 0.02%",
           "Start: Mitte (Start)<br>Ende: Tempelhof-Schöneberg (End)<br>Fahrten: 1464<br>Anteil: 0.87%",
           "Start: Mitte (Start)<br>Ende: Treptow-Köpenick (End)<br>Fahrten: 245<br>Anteil: 0.15%",
           "Start: Neukölln (Start)<br>Ende: Charlottenburg-Wilmersdorf (End)<br>Fahrten: 96<br>Anteil: 0.06%",
           "Start: Neukölln (Start)<br>Ende: Friedrichshain-Kreuzberg (End)<br>Fahrten: 5678<br>Anteil: 3.39%",
           "Start: Neukölln (Start)<br>Ende: Lichtenberg (End)<br>Fahrten: 262<br>Anteil: 0.16%",
           "Start: Neukölln (Start)<br>Ende: Mitte (End)<br>Fahrten: 993<br>Anteil: 0.59%",
           "Start: Neukölln (Start)<br>Ende: Neukölln (End)<br>Fahrten: 8107<br>Anteil: 4.83%",
           "Start: Neukölln (Start)<br>Ende: Pankow (End)<br>Fahrten: 151<br>Anteil: 0.09%",
           "Start: Neukölln (Start)<br>Ende: Steglitz-Zehlendorf (End)<br>Fahrten: 15<br>Anteil: 0.01%",
           "Start: Neukölln (Start)<br>Ende: Tempelhof-Schöneberg (End)<br>Fahrten: 894<br>Anteil: 0.53%",
           "Start: Neukölln (Start)<br>Ende: Treptow-Köpenick (End)<br>Fahrten: 915<br>Anteil: 0.55%",
           "Start: Pankow (Start)<br>Ende: Charlottenburg-Wilmersdorf (End)<br>Fahrten: 95<br>Anteil: 0.06%",
           "Start: Pankow (Start)<br>Ende: Friedrichshain-Kreuzberg (End)<br>Fahrten: 1822<br>Anteil: 1.09%",
           "Start: Pankow (Start)<br>Ende: Lichtenberg (End)<br>Fahrten: 277<br>Anteil: 0.17%",
           "Start: Pankow (Start)<br>Ende: Mitte (End)<br>Fahrten: 4042<br>Anteil: 2.41%",
           "Start: Pankow (Start)<br>Ende: Neukölln (End)<br>Fahrten: 202<br>Anteil: 0.12%",
           "Start: Pankow (Start)<br>Ende: Pankow (End)<br>Fahrten: 7096<br>Anteil: 4.23%",
           "Start: Pankow (Start)<br>Ende: Reinickendorf (End)<br>Fahrten: 55<br>Anteil: 0.03%",
           "Start: Pankow (Start)<br>Ende: Tempelhof-Schöneberg (End)<br>Fahrten: 97<br>Anteil: 0.06%",
           "Start: Pankow (Start)<br>Ende: Treptow-Köpenick (End)<br>Fahrten: 69<br>Anteil: 0.04%",
           "Start: Reinickendorf (Start)<br>Ende: Charlottenburg-Wilmersdorf (End)<br>Fahrten: 13<br>Anteil: 0.01%",
           "Start: Reinickendorf (Start)<br>Ende: Mitte (End)<br>Fahrten: 257<br>Anteil: 0.15%",
           "Start: Reinickendorf (Start)<br>Ende: Pankow (End)<br>Fahrten: 54<br>Anteil: 0.03%",
           "Start: Reinickendorf (Start)<br>Ende: Reinickendorf (End)<br>Fahrten: 242<br>Anteil: 0.14%",
           "Start: Spandau (Start)<br>Ende: Charlottenburg-Wilmersdorf (End)<br>Fahrten: 65<br>Anteil: 0.04%",
           "Start: Spandau (Start)<br>Ende: Mitte (End)<br>Fahrten: 36<br>Anteil: 0.02%",
           "Start: Spandau (Start)<br>Ende: Spandau (End)<br>Fahrten: 301<br>Anteil: 0.18%",
           "Start: Steglitz-Zehlendorf (Start)<br>Ende: Charlottenburg-Wilmersdorf (End)<br>Fahrten: 243<br>Anteil: 0.14%",
           "Start: Steglitz-Zehlendorf (Start)<br>Ende: Friedrichshain-Kreuzberg (End)<br>Fahrten: 41<br>Anteil: 0.02%",
           "Start: Steglitz-Zehlendorf (Start)<br>Ende: Mitte (End)<br>Fahrten: 55<br>Anteil: 0.03%",
           "Start: Steglitz-Zehlendorf (Start)<br>Ende: Neukölln (End)<br>Fahrten: 15<br>Anteil: 0.01%",
           "Start: Steglitz-Zehlendorf (Start)<br>Ende: Steglitz-Zehlendorf (End)<br>Fahrten: 1120<br>Anteil: 0.67%",
           "Start: Steglitz-Zehlendorf (Start)<br>Ende: Tempelhof-Schöneberg (End)<br>Fahrten: 404<br>Anteil: 0.24%",
           "Start: Tempelhof-Schöneberg (Start)<br>Ende: Charlottenburg-Wilmersdorf (End)<br>Fahrten: 1334<br>Anteil: 0.80%",
           "Start: Tempelhof-Schöneberg (Start)<br>Ende: Friedrichshain-Kreuzberg (End)<br>Fahrten: 1603<br>Anteil: 0.96%",
           "Start: Tempelhof-Schöneberg (Start)<br>Ende: Lichtenberg (End)<br>Fahrten: 30<br>Anteil: 0.02%",
           "Start: Tempelhof-Schöneberg (Start)<br>Ende: Mitte (End)<br>Fahrten: 1406<br>Anteil: 0.84%",
           "Start: Tempelhof-Schöneberg (Start)<br>Ende: Neukölln (End)<br>Fahrten: 966<br>Anteil: 0.58%",
           "Start: Tempelhof-Schöneberg (Start)<br>Ende: Pankow (End)<br>Fahrten: 58<br>Anteil: 0.03%",
           "Start: Tempelhof-Schöneberg (Start)<br>Ende: Steglitz-Zehlendorf (End)<br>Fahrten: 433<br>Anteil: 0.26%",
           "Start: Tempelhof-Schöneberg (Start)<br>Ende: Tempelhof-Schöneberg (End)<br>Fahrten: 5160<br>Anteil: 3.08%",
           "Start: Tempelhof-Schöneberg (Start)<br>Ende: Treptow-Köpenick (End)<br>Fahrten: 67<br>Anteil: 0.04%",
           "Start: Treptow-Köpenick (Start)<br>Ende: Friedrichshain-Kreuzberg (End)<br>Fahrten: 1576<br>Anteil: 0.94%",
           "Start: Treptow-Köpenick (Start)<br>Ende: Lichtenberg (End)<br>Fahrten: 437<br>Anteil: 0.26%",
           "Start: Treptow-Köpenick (Start)<br>Ende: Marzahn-Hellersdorf (End)<br>Fahrten: 16<br>Anteil: 0.01%",
           "Start: Treptow-Köpenick (Start)<br>Ende: Mitte (End)<br>Fahrten: 203<br>Anteil: 0.12%",
           "Start: Treptow-Köpenick (Start)<br>Ende: Neukölln (End)<br>Fahrten: 976<br>Anteil: 0.58%",
           "Start: Treptow-Köpenick (Start)<br>Ende: Pankow (End)<br>Fahrten: 57<br>Anteil: 0.03%",
           "Start: Treptow-Köpenick (Start)<br>Ende: Tempelhof-Schöneberg (End)<br>Fahrten: 71<br>Anteil: 0.04%",
           "Start: Treptow-Köpenick (Start)<br>Ende: Treptow-Köpenick (End)<br>Fahrten: 4871<br>Anteil: 2.90%"
          ],
          "hovertemplate": "%{customdata}<extra></extra>",
          "source": [
           0,
           0,
           0,
           0,
           0,
           0,
           0,
           0,
           0,
           0,
           1,
           1,
           1,
           1,
           1,
           1,
           1,
           1,
           1,
           1,
           2,
           2,
           2,
           2,
           2,
           2,
           2,
           2,
           2,
           3,
           3,
           3,
           4,
           4,
           4,
           4,
           4,
           4,
           4,
           4,
           4,
           4,
           4,
           5,
           5,
           5,
           5,
           5,
           5,
           5,
           5,
           5,
           6,
           6,
           6,
           6,
           6,
           6,
           6,
           6,
           6,
           7,
           7,
           7,
           7,
           8,
           8,
           8,
           9,
           9,
           9,
           9,
           9,
           9,
           10,
           10,
           10,
           10,
           10,
           10,
           10,
           10,
           10,
           11,
           11,
           11,
           11,
           11,
           11,
           11,
           11
          ],
          "target": [
           12,
           13,
           16,
           17,
           18,
           19,
           20,
           21,
           22,
           23,
           12,
           13,
           14,
           15,
           16,
           17,
           18,
           21,
           22,
           23,
           12,
           13,
           14,
           15,
           16,
           17,
           18,
           22,
           23,
           13,
           14,
           15,
           12,
           13,
           14,
           16,
           17,
           18,
           19,
           20,
           21,
           22,
           23,
           12,
           13,
           14,
           16,
           17,
           18,
           21,
           22,
           23,
           12,
           13,
           14,
           16,
           17,
           18,
           19,
           22,
           23,
           12,
           16,
           18,
           19,
           12,
           16,
           20,
           12,
           13,
           16,
           17,
           21,
           22,
           12,
           13,
           14,
           16,
           17,
           18,
           21,
           22,
           23,
           13,
           14,
           15,
           16,
           17,
           18,
           22,
           23
          ],
          "value": {
           "bdata": "zSMNAnQKaABPAAwAUgACAWAFDgDeAa9bPQcPAEoa0hU6BjUAYAbxBQ8AwwZDGy8ACgHkAPoAHwDPARAALQBDABgLhBsHASN38QM+DgQBJwAmALgF9QBgAC4WBgHhA6sflwAPAH4DkwNfAB4HFQHKD8oAuBs3AGEARQANAAEBNgDyAEEAJAAtAfMAKQA3AA8AYASUATYFQwYeAH4FxgM6ALEBKBRDACgGtQEQAMsA0AM5AEcABxM=",
           "dtype": "i2"
          }
         },
         "node": {
          "color": [
           "rgb(141,211,199)",
           "rgb(255,255,179)",
           "rgb(190,186,218)",
           "rgb(251,128,114)",
           "rgb(128,177,211)",
           "rgb(253,180,98)",
           "rgb(179,222,105)",
           "rgb(252,205,229)",
           "rgb(217,217,217)",
           "rgb(188,128,189)",
           "rgb(204,235,197)",
           "rgb(255,237,111)",
           "rgb(141,211,199)",
           "rgb(255,255,179)",
           "rgb(190,186,218)",
           "rgb(251,128,114)",
           "rgb(128,177,211)",
           "rgb(253,180,98)",
           "rgb(179,222,105)",
           "rgb(252,205,229)",
           "rgb(217,217,217)",
           "rgb(188,128,189)",
           "rgb(204,235,197)",
           "rgb(255,237,111)"
          ],
          "customdata": [
           "Charlottenburg-Wilmersdorf (Start)<br>Fahrten: 14291<br>Anteil: 8.52%",
           "Friedrichshain-Kreuzberg (Start)<br>Fahrten: 42933<br>Anteil: 25.60%",
           "Lichtenberg (Start)<br>Fahrten: 10010<br>Anteil: 5.97%",
           "Marzahn-Hellersdorf (Start)<br>Fahrten: 128<br>Anteil: 0.08%",
           "Mitte (Start)<br>Fahrten: 47347<br>Anteil: 28.24%",
           "Neukölln (Start)<br>Fahrten: 17111<br>Anteil: 10.20%",
           "Pankow (Start)<br>Fahrten: 13755<br>Anteil: 8.20%",
           "Reinickendorf (Start)<br>Fahrten: 566<br>Anteil: 0.34%",
           "Spandau (Start)<br>Fahrten: 402<br>Anteil: 0.24%",
           "Steglitz-Zehlendorf (Start)<br>Fahrten: 1878<br>Anteil: 1.12%",
           "Tempelhof-Schöneberg (Start)<br>Fahrten: 11057<br>Anteil: 6.59%",
           "Treptow-Köpenick (Start)<br>Fahrten: 8207<br>Anteil: 4.89%",
           "Charlottenburg-Wilmersdorf (Ende)<br>Fahrten: 14344<br>Anteil: 8.55%",
           "Friedrichshain-Kreuzberg (Ende)<br>Fahrten: 43507<br>Anteil: 25.95%",
           "Lichtenberg (Ende)<br>Fahrten: 10146<br>Anteil: 6.05%",
           "Marzahn-Hellersdorf (Ende)<br>Fahrten: 145<br>Anteil: 0.09%",
           "Mitte (Ende)<br>Fahrten: 47163<br>Anteil: 28.13%",
           "Neukölln (Ende)<br>Fahrten: 17193<br>Anteil: 10.25%",
           "Pankow (Ende)<br>Fahrten: 12985<br>Anteil: 7.74%",
           "Reinickendorf (Ende)<br>Fahrten: 569<br>Anteil: 0.34%",
           "Spandau (Ende)<br>Fahrten: 422<br>Anteil: 0.25%",
           "Steglitz-Zehlendorf (Ende)<br>Fahrten: 1917<br>Anteil: 1.14%",
           "Tempelhof-Schöneberg (Ende)<br>Fahrten: 11129<br>Anteil: 6.64%",
           "Treptow-Köpenick (Ende)<br>Fahrten: 8165<br>Anteil: 4.87%"
          ],
          "hovertemplate": "%{customdata}<extra></extra>",
          "label": [
           "Charlottenburg-Wilmersdorf (Start)",
           "Friedrichshain-Kreuzberg (Start)",
           "Lichtenberg (Start)",
           "Marzahn-Hellersdorf (Start)",
           "Mitte (Start)",
           "Neukölln (Start)",
           "Pankow (Start)",
           "Reinickendorf (Start)",
           "Spandau (Start)",
           "Steglitz-Zehlendorf (Start)",
           "Tempelhof-Schöneberg (Start)",
           "Treptow-Köpenick (Start)",
           "Charlottenburg-Wilmersdorf (End)",
           "Friedrichshain-Kreuzberg (End)",
           "Lichtenberg (End)",
           "Marzahn-Hellersdorf (End)",
           "Mitte (End)",
           "Neukölln (End)",
           "Pankow (End)",
           "Reinickendorf (End)",
           "Spandau (End)",
           "Steglitz-Zehlendorf (End)",
           "Tempelhof-Schöneberg (End)",
           "Treptow-Köpenick (End)"
          ],
          "pad": 15,
          "thickness": 16
         },
         "type": "sankey"
        }
       ],
       "layout": {
        "font": {
         "size": 14
        },
        "height": 700,
        "template": {
         "data": {
          "bar": [
           {
            "error_x": {
             "color": "#2a3f5f"
            },
            "error_y": {
             "color": "#2a3f5f"
            },
            "marker": {
             "line": {
              "color": "#E5ECF6",
              "width": 0.5
             },
             "pattern": {
              "fillmode": "overlay",
              "size": 10,
              "solidity": 0.2
             }
            },
            "type": "bar"
           }
          ],
          "barpolar": [
           {
            "marker": {
             "line": {
              "color": "#E5ECF6",
              "width": 0.5
             },
             "pattern": {
              "fillmode": "overlay",
              "size": 10,
              "solidity": 0.2
             }
            },
            "type": "barpolar"
           }
          ],
          "carpet": [
           {
            "aaxis": {
             "endlinecolor": "#2a3f5f",
             "gridcolor": "white",
             "linecolor": "white",
             "minorgridcolor": "white",
             "startlinecolor": "#2a3f5f"
            },
            "baxis": {
             "endlinecolor": "#2a3f5f",
             "gridcolor": "white",
             "linecolor": "white",
             "minorgridcolor": "white",
             "startlinecolor": "#2a3f5f"
            },
            "type": "carpet"
           }
          ],
          "choropleth": [
           {
            "colorbar": {
             "outlinewidth": 0,
             "ticks": ""
            },
            "type": "choropleth"
           }
          ],
          "contour": [
           {
            "colorbar": {
             "outlinewidth": 0,
             "ticks": ""
            },
            "colorscale": [
             [
              0,
              "#0d0887"
             ],
             [
              0.1111111111111111,
              "#46039f"
             ],
             [
              0.2222222222222222,
              "#7201a8"
             ],
             [
              0.3333333333333333,
              "#9c179e"
             ],
             [
              0.4444444444444444,
              "#bd3786"
             ],
             [
              0.5555555555555556,
              "#d8576b"
             ],
             [
              0.6666666666666666,
              "#ed7953"
             ],
             [
              0.7777777777777778,
              "#fb9f3a"
             ],
             [
              0.8888888888888888,
              "#fdca26"
             ],
             [
              1,
              "#f0f921"
             ]
            ],
            "type": "contour"
           }
          ],
          "contourcarpet": [
           {
            "colorbar": {
             "outlinewidth": 0,
             "ticks": ""
            },
            "type": "contourcarpet"
           }
          ],
          "heatmap": [
           {
            "colorbar": {
             "outlinewidth": 0,
             "ticks": ""
            },
            "colorscale": [
             [
              0,
              "#0d0887"
             ],
             [
              0.1111111111111111,
              "#46039f"
             ],
             [
              0.2222222222222222,
              "#7201a8"
             ],
             [
              0.3333333333333333,
              "#9c179e"
             ],
             [
              0.4444444444444444,
              "#bd3786"
             ],
             [
              0.5555555555555556,
              "#d8576b"
             ],
             [
              0.6666666666666666,
              "#ed7953"
             ],
             [
              0.7777777777777778,
              "#fb9f3a"
             ],
             [
              0.8888888888888888,
              "#fdca26"
             ],
             [
              1,
              "#f0f921"
             ]
            ],
            "type": "heatmap"
           }
          ],
          "histogram": [
           {
            "marker": {
             "pattern": {
              "fillmode": "overlay",
              "size": 10,
              "solidity": 0.2
             }
            },
            "type": "histogram"
           }
          ],
          "histogram2d": [
           {
            "colorbar": {
             "outlinewidth": 0,
             "ticks": ""
            },
            "colorscale": [
             [
              0,
              "#0d0887"
             ],
             [
              0.1111111111111111,
              "#46039f"
             ],
             [
              0.2222222222222222,
              "#7201a8"
             ],
             [
              0.3333333333333333,
              "#9c179e"
             ],
             [
              0.4444444444444444,
              "#bd3786"
             ],
             [
              0.5555555555555556,
              "#d8576b"
             ],
             [
              0.6666666666666666,
              "#ed7953"
             ],
             [
              0.7777777777777778,
              "#fb9f3a"
             ],
             [
              0.8888888888888888,
              "#fdca26"
             ],
             [
              1,
              "#f0f921"
             ]
            ],
            "type": "histogram2d"
           }
          ],
          "histogram2dcontour": [
           {
            "colorbar": {
             "outlinewidth": 0,
             "ticks": ""
            },
            "colorscale": [
             [
              0,
              "#0d0887"
             ],
             [
              0.1111111111111111,
              "#46039f"
             ],
             [
              0.2222222222222222,
              "#7201a8"
             ],
             [
              0.3333333333333333,
              "#9c179e"
             ],
             [
              0.4444444444444444,
              "#bd3786"
             ],
             [
              0.5555555555555556,
              "#d8576b"
             ],
             [
              0.6666666666666666,
              "#ed7953"
             ],
             [
              0.7777777777777778,
              "#fb9f3a"
             ],
             [
              0.8888888888888888,
              "#fdca26"
             ],
             [
              1,
              "#f0f921"
             ]
            ],
            "type": "histogram2dcontour"
           }
          ],
          "mesh3d": [
           {
            "colorbar": {
             "outlinewidth": 0,
             "ticks": ""
            },
            "type": "mesh3d"
           }
          ],
          "parcoords": [
           {
            "line": {
             "colorbar": {
              "outlinewidth": 0,
              "ticks": ""
             }
            },
            "type": "parcoords"
           }
          ],
          "pie": [
           {
            "automargin": true,
            "type": "pie"
           }
          ],
          "scatter": [
           {
            "fillpattern": {
             "fillmode": "overlay",
             "size": 10,
             "solidity": 0.2
            },
            "type": "scatter"
           }
          ],
          "scatter3d": [
           {
            "line": {
             "colorbar": {
              "outlinewidth": 0,
              "ticks": ""
             }
            },
            "marker": {
             "colorbar": {
              "outlinewidth": 0,
              "ticks": ""
             }
            },
            "type": "scatter3d"
           }
          ],
          "scattercarpet": [
           {
            "marker": {
             "colorbar": {
              "outlinewidth": 0,
              "ticks": ""
             }
            },
            "type": "scattercarpet"
           }
          ],
          "scattergeo": [
           {
            "marker": {
             "colorbar": {
              "outlinewidth": 0,
              "ticks": ""
             }
            },
            "type": "scattergeo"
           }
          ],
          "scattergl": [
           {
            "marker": {
             "colorbar": {
              "outlinewidth": 0,
              "ticks": ""
             }
            },
            "type": "scattergl"
           }
          ],
          "scattermap": [
           {
            "marker": {
             "colorbar": {
              "outlinewidth": 0,
              "ticks": ""
             }
            },
            "type": "scattermap"
           }
          ],
          "scattermapbox": [
           {
            "marker": {
             "colorbar": {
              "outlinewidth": 0,
              "ticks": ""
             }
            },
            "type": "scattermapbox"
           }
          ],
          "scatterpolar": [
           {
            "marker": {
             "colorbar": {
              "outlinewidth": 0,
              "ticks": ""
             }
            },
            "type": "scatterpolar"
           }
          ],
          "scatterpolargl": [
           {
            "marker": {
             "colorbar": {
              "outlinewidth": 0,
              "ticks": ""
             }
            },
            "type": "scatterpolargl"
           }
          ],
          "scatterternary": [
           {
            "marker": {
             "colorbar": {
              "outlinewidth": 0,
              "ticks": ""
             }
            },
            "type": "scatterternary"
           }
          ],
          "surface": [
           {
            "colorbar": {
             "outlinewidth": 0,
             "ticks": ""
            },
            "colorscale": [
             [
              0,
              "#0d0887"
             ],
             [
              0.1111111111111111,
              "#46039f"
             ],
             [
              0.2222222222222222,
              "#7201a8"
             ],
             [
              0.3333333333333333,
              "#9c179e"
             ],
             [
              0.4444444444444444,
              "#bd3786"
             ],
             [
              0.5555555555555556,
              "#d8576b"
             ],
             [
              0.6666666666666666,
              "#ed7953"
             ],
             [
              0.7777777777777778,
              "#fb9f3a"
             ],
             [
              0.8888888888888888,
              "#fdca26"
             ],
             [
              1,
              "#f0f921"
             ]
            ],
            "type": "surface"
           }
          ],
          "table": [
           {
            "cells": {
             "fill": {
              "color": "#EBF0F8"
             },
             "line": {
              "color": "white"
             }
            },
            "header": {
             "fill": {
              "color": "#C8D4E3"
             },
             "line": {
              "color": "white"
             }
            },
            "type": "table"
           }
          ]
         },
         "layout": {
          "annotationdefaults": {
           "arrowcolor": "#2a3f5f",
           "arrowhead": 0,
           "arrowwidth": 1
          },
          "autotypenumbers": "strict",
          "coloraxis": {
           "colorbar": {
            "outlinewidth": 0,
            "ticks": ""
           }
          },
          "colorscale": {
           "diverging": [
            [
             0,
             "#8e0152"
            ],
            [
             0.1,
             "#c51b7d"
            ],
            [
             0.2,
             "#de77ae"
            ],
            [
             0.3,
             "#f1b6da"
            ],
            [
             0.4,
             "#fde0ef"
            ],
            [
             0.5,
             "#f7f7f7"
            ],
            [
             0.6,
             "#e6f5d0"
            ],
            [
             0.7,
             "#b8e186"
            ],
            [
             0.8,
             "#7fbc41"
            ],
            [
             0.9,
             "#4d9221"
            ],
            [
             1,
             "#276419"
            ]
           ],
           "sequential": [
            [
             0,
             "#0d0887"
            ],
            [
             0.1111111111111111,
             "#46039f"
            ],
            [
             0.2222222222222222,
             "#7201a8"
            ],
            [
             0.3333333333333333,
             "#9c179e"
            ],
            [
             0.4444444444444444,
             "#bd3786"
            ],
            [
             0.5555555555555556,
             "#d8576b"
            ],
            [
             0.6666666666666666,
             "#ed7953"
            ],
            [
             0.7777777777777778,
             "#fb9f3a"
            ],
            [
             0.8888888888888888,
             "#fdca26"
            ],
            [
             1,
             "#f0f921"
            ]
           ],
           "sequentialminus": [
            [
             0,
             "#0d0887"
            ],
            [
             0.1111111111111111,
             "#46039f"
            ],
            [
             0.2222222222222222,
             "#7201a8"
            ],
            [
             0.3333333333333333,
             "#9c179e"
            ],
            [
             0.4444444444444444,
             "#bd3786"
            ],
            [
             0.5555555555555556,
             "#d8576b"
            ],
            [
             0.6666666666666666,
             "#ed7953"
            ],
            [
             0.7777777777777778,
             "#fb9f3a"
            ],
            [
             0.8888888888888888,
             "#fdca26"
            ],
            [
             1,
             "#f0f921"
            ]
           ]
          },
          "colorway": [
           "#636efa",
           "#EF553B",
           "#00cc96",
           "#ab63fa",
           "#FFA15A",
           "#19d3f3",
           "#FF6692",
           "#B6E880",
           "#FF97FF",
           "#FECB52"
          ],
          "font": {
           "color": "#2a3f5f"
          },
          "geo": {
           "bgcolor": "white",
           "lakecolor": "white",
           "landcolor": "#E5ECF6",
           "showlakes": true,
           "showland": true,
           "subunitcolor": "white"
          },
          "hoverlabel": {
           "align": "left"
          },
          "hovermode": "closest",
          "mapbox": {
           "style": "light"
          },
          "paper_bgcolor": "white",
          "plot_bgcolor": "#E5ECF6",
          "polar": {
           "angularaxis": {
            "gridcolor": "white",
            "linecolor": "white",
            "ticks": ""
           },
           "bgcolor": "#E5ECF6",
           "radialaxis": {
            "gridcolor": "white",
            "linecolor": "white",
            "ticks": ""
           }
          },
          "scene": {
           "xaxis": {
            "backgroundcolor": "#E5ECF6",
            "gridcolor": "white",
            "gridwidth": 2,
            "linecolor": "white",
            "showbackground": true,
            "ticks": "",
            "zerolinecolor": "white"
           },
           "yaxis": {
            "backgroundcolor": "#E5ECF6",
            "gridcolor": "white",
            "gridwidth": 2,
            "linecolor": "white",
            "showbackground": true,
            "ticks": "",
            "zerolinecolor": "white"
           },
           "zaxis": {
            "backgroundcolor": "#E5ECF6",
            "gridcolor": "white",
            "gridwidth": 2,
            "linecolor": "white",
            "showbackground": true,
            "ticks": "",
            "zerolinecolor": "white"
           }
          },
          "shapedefaults": {
           "line": {
            "color": "#2a3f5f"
           }
          },
          "ternary": {
           "aaxis": {
            "gridcolor": "white",
            "linecolor": "white",
            "ticks": ""
           },
           "baxis": {
            "gridcolor": "white",
            "linecolor": "white",
            "ticks": ""
           },
           "bgcolor": "#E5ECF6",
           "caxis": {
            "gridcolor": "white",
            "linecolor": "white",
            "ticks": ""
           }
          },
          "title": {
           "x": 0.05
          },
          "xaxis": {
           "automargin": true,
           "gridcolor": "white",
           "linecolor": "white",
           "ticks": "",
           "title": {
            "standoff": 15
           },
           "zerolinecolor": "white",
           "zerolinewidth": 2
          },
          "yaxis": {
           "automargin": true,
           "gridcolor": "white",
           "linecolor": "white",
           "ticks": "",
           "title": {
            "standoff": 15
           },
           "zerolinecolor": "white",
           "zerolinewidth": 2
          }
         }
        },
        "width": 1200
       }
      }
     },
     "metadata": {},
     "output_type": "display_data"
    }
   ],
   "source": [
    "import pandas as pd\n",
    "import geopandas as gpd\n",
    "from shapely.geometry import Point\n",
    "import plotly.graph_objects as go\n",
    "from plotly.colors import qualitative\n",
    "\n",
    "# --- 1. Bezirksgrenzen laden ---\n",
    "berlin = gpd.read_file(\"./DATA/TripAnalysis/bezirksgrenzen.geojson\")\n",
    "\n",
    "# Spaltenname für Bezirksnamen\n",
    "district_col = 'Gemeinde_name'\n",
    "\n",
    "# --- 2. Trip-CSV laden und bereinigen ---\n",
    "# trip_df sollte bereits geladen und bereinigt sein\n",
    "\n",
    "# --- 3. Start- und Endpunkte als GeoDataFrames anlegen ---\n",
    "gdf_start = gpd.GeoDataFrame(\n",
    "    trip_df,\n",
    "    geometry=gpd.points_from_xy(trip_df['Rental-Lng'], trip_df['Rental-Lat']),\n",
    "    crs=berlin.crs\n",
    ")\n",
    "\n",
    "gdf_end = gpd.GeoDataFrame(\n",
    "    trip_df,\n",
    "    geometry=gpd.points_from_xy(trip_df['Return-Lng'], trip_df['Return-Lat']),\n",
    "    crs=berlin.crs\n",
    ")\n",
    "\n",
    "# --- 4. Spatial Join: Bezirke zuordnen ---\n",
    "gdf_start = gpd.sjoin(gdf_start, berlin[['geometry', district_col]], how='left', predicate='within')\n",
    "gdf_start = gdf_start.rename(columns={district_col: 'Start-District'})\n",
    "\n",
    "gdf_end = gpd.sjoin(gdf_end, berlin[['geometry', district_col]], how='left', predicate='within')\n",
    "gdf_end = gdf_end.rename(columns={district_col: 'End-District'})\n",
    "\n",
    "# --- 5. Bezirksnamen ins trip_df übernehmen ---\n",
    "trip_df['Start-District'] = gdf_start['Start-District']\n",
    "trip_df['End-District'] = gdf_end['End-District']\n",
    "\n",
    "# --- 6. Gruppieren nach Bezirks-Paaren ---\n",
    "district_routes = trip_df.groupby(['Start-District', 'End-District']).size().reset_index(name='count')\n",
    "district_routes = district_routes.dropna(subset=['Start-District', 'End-District'])\n",
    "district_routes = district_routes[district_routes['count'] > 10]\n",
    "\n",
    "# --- 7. Sankey-Diagramm vorbereiten und bauen ---\n",
    "district_routes['source_node'] = district_routes['Start-District'] + \" (Start)\"\n",
    "district_routes['target_node'] = district_routes['End-District'] + \" (End)\"\n",
    "\n",
    "start_nodes = sorted(district_routes['source_node'].unique())\n",
    "end_nodes = sorted(district_routes['target_node'].unique())\n",
    "all_nodes = start_nodes + end_nodes\n",
    "\n",
    "node_indices = {name: i for i, name in enumerate(all_nodes)}\n",
    "\n",
    "unique_starts = sorted(district_routes['Start-District'].unique())\n",
    "farben = qualitative.Set3\n",
    "farben_dict = {bezirk: farben[i % len(farben)] for i, bezirk in enumerate(unique_starts)}\n",
    "\n",
    "# Node-Farben\n",
    "node_colors = []\n",
    "for node in all_nodes:\n",
    "    if node.endswith(' (Start)'):\n",
    "        bezirk = node.replace(' (Start)', '')\n",
    "        node_colors.append(farben_dict.get(bezirk, '#cccccc'))\n",
    "    elif node.endswith(' (End)'):\n",
    "        bezirk = node.replace(' (End)', '')\n",
    "        node_colors.append(farben_dict.get(bezirk, '#cccccc'))\n",
    "    else:\n",
    "        node_colors.append('#cccccc')\n",
    "\n",
    "# Link-Farben\n",
    "link_colors = [farben_dict.get(src.replace(' (Start)', ''), '#cccccc') for src in district_routes['source_node']]\n",
    "\n",
    "# --- Prozentanteile berechnen ---\n",
    "total_trips = district_routes['count'].sum()\n",
    "district_routes['percent'] = district_routes['count'] / total_trips * 100\n",
    "\n",
    "# Summen je Start- und End-Bezirk (für Knoten-Tooltips)\n",
    "start_sums = district_routes.groupby('Start-District')['count'].sum().to_dict()\n",
    "end_sums = district_routes.groupby('End-District')['count'].sum().to_dict()\n",
    "\n",
    "# --- Tooltips für Knoten (mit Prozent) ---\n",
    "node_tooltips = []\n",
    "for node in all_nodes:\n",
    "    if node.endswith(' (Start)'):\n",
    "        bezirk = node.replace(' (Start)', '')\n",
    "        val = start_sums.get(bezirk, 0)\n",
    "        pct = (val / total_trips * 100) if total_trips > 0 else 0.0\n",
    "        node_tooltips.append(f\"{bezirk} (Start)<br>Fahrten: {val}<br>Anteil: {pct:.2f}%\")\n",
    "    else:\n",
    "        bezirk = node.replace(' (End)', '')\n",
    "        val = end_sums.get(bezirk, 0)\n",
    "        pct = (val / total_trips * 100) if total_trips > 0 else 0.0\n",
    "        node_tooltips.append(f\"{bezirk} (Ende)<br>Fahrten: {val}<br>Anteil: {pct:.2f}%\")\n",
    "\n",
    "# --- Tooltips für Links (mit Prozent) ---\n",
    "link_tooltips = [\n",
    "    f\"Start: {src}<br>Ende: {tgt}<br>Fahrten: {cnt}<br>Anteil: {pct:.2f}%\"\n",
    "    for src, tgt, cnt, pct in zip(\n",
    "        district_routes['source_node'],\n",
    "        district_routes['target_node'],\n",
    "        district_routes['count'],\n",
    "        district_routes['percent']\n",
    "    )\n",
    "]\n",
    "\n",
    "# --- Sankey zeichnen ---\n",
    "fig = go.Figure(data=[go.Sankey(\n",
    "    node=dict(\n",
    "        pad=15,\n",
    "        thickness=16,\n",
    "        label=all_nodes,\n",
    "        color=node_colors,\n",
    "        customdata=node_tooltips,\n",
    "        hovertemplate='%{customdata}<extra></extra>'\n",
    "    ),\n",
    "    link=dict(\n",
    "        source=[node_indices[src] for src in district_routes['source_node']],\n",
    "        target=[node_indices[tgt] for tgt in district_routes['target_node']],\n",
    "        value=district_routes['count'],\n",
    "        color=link_colors,\n",
    "        customdata=link_tooltips,\n",
    "        hovertemplate='%{customdata}<extra></extra>'\n",
    "    )\n",
    ")])\n",
    "\n",
    "fig.update_layout(\n",
    "    font_size=14,\n",
    "    width=1200,\n",
    "    height=700,\n",
    "    # title_text=\"Trip flows between districts\"\n",
    ")\n",
    "\n",
    "fig.show()\n"
   ]
  },
  {
   "cell_type": "code",
   "execution_count": 60,
   "id": "df817356",
   "metadata": {},
   "outputs": [
    {
     "name": "stdout",
     "output_type": "stream",
     "text": [
      "Anzahl eindeutiger Movement-Types (Paare 'Start:End'): 9\n",
      "\n",
      "Top 10 Movement-Types nach Häufigkeit:\n",
      "        Movement-Type  count\n",
      "      Station:Station 148312\n",
      "     Flexzone:Station   9777\n",
      "     Station:Flexzone   6326\n",
      "   NoFlexzone:Station   1550\n",
      "   Station:NoFlexzone   1439\n",
      "    Flexzone:Flexzone    304\n",
      "NoFlexzone:NoFlexzone     40\n",
      "  Flexzone:NoFlexzone     27\n",
      "  NoFlexzone:Flexzone     24\n",
      "\n",
      "Eindeutige Start-Typen: 3 ['Flexzone', 'NoFlexzone', 'Station']\n",
      "Eindeutige End-Typen: 3 ['Flexzone', 'NoFlexzone', 'Station']\n",
      "Eindeutige Basistypen gesamt (Union): 3 ['Flexzone', 'NoFlexzone', 'Station']\n"
     ]
    },
    {
     "data": {
      "application/vnd.plotly.v1+json": {
       "config": {
        "plotlyServerURL": "https://plot.ly"
       },
       "data": [
        {
         "link": {
          "color": [
           "rgb(57, 105, 172)",
           "rgb(127, 60, 141)",
           "rgb(57, 105, 172)",
           "rgb(17, 165, 121)",
           "rgb(57, 105, 172)",
           "rgb(127, 60, 141)",
           "rgb(17, 165, 121)",
           "rgb(127, 60, 141)",
           "rgb(17, 165, 121)"
          ],
          "customdata": [
           "Start: Station → End: Station<br>Fahrten: 148312<br>Anteil: 88.39%",
           "Start: Flexzone → End: Station<br>Fahrten: 9777<br>Anteil: 5.83%",
           "Start: Station → End: Flexzone<br>Fahrten: 6326<br>Anteil: 3.77%",
           "Start: NoFlexzone → End: Station<br>Fahrten: 1550<br>Anteil: 0.92%",
           "Start: Station → End: NoFlexzone<br>Fahrten: 1439<br>Anteil: 0.86%",
           "Start: Flexzone → End: Flexzone<br>Fahrten: 304<br>Anteil: 0.18%",
           "Start: NoFlexzone → End: NoFlexzone<br>Fahrten: 40<br>Anteil: 0.02%",
           "Start: Flexzone → End: NoFlexzone<br>Fahrten: 27<br>Anteil: 0.02%",
           "Start: NoFlexzone → End: Flexzone<br>Fahrten: 24<br>Anteil: 0.01%"
          ],
          "hovertemplate": "%{customdata}<extra></extra>",
          "source": [
           2,
           0,
           2,
           1,
           2,
           0,
           1,
           0,
           1
          ],
          "target": [
           5,
           5,
           3,
           5,
           4,
           3,
           4,
           4,
           3
          ],
          "value": [
           148312,
           9777,
           6326,
           1550,
           1439,
           304,
           40,
           27,
           24
          ]
         },
         "node": {
          "color": [
           "rgb(127, 60, 141)",
           "rgb(17, 165, 121)",
           "rgb(57, 105, 172)",
           "rgb(127, 60, 141)",
           "rgb(17, 165, 121)",
           "rgb(57, 105, 172)"
          ],
          "customdata": [
           "Flexzone (Start)<br>Fahrten: 10108<br>Anteil: 6.02%",
           "NoFlexzone (Start)<br>Fahrten: 1614<br>Anteil: 0.96%",
           "Station (Start)<br>Fahrten: 156077<br>Anteil: 93.01%",
           "Flexzone (End)<br>Fahrten: 6654<br>Anteil: 3.97%",
           "NoFlexzone (End)<br>Fahrten: 1506<br>Anteil: 0.90%",
           "Station (End)<br>Fahrten: 159639<br>Anteil: 95.14%"
          ],
          "hovertemplate": "%{customdata}<extra></extra>",
          "label": [
           "Flexzone (Start)",
           "NoFlexzone (Start)",
           "Station (Start)",
           "Flexzone (End)",
           "NoFlexzone (End)",
           "Station (End)"
          ],
          "pad": 15,
          "thickness": 16
         },
         "type": "sankey"
        }
       ],
       "layout": {
        "font": {
         "size": 14
        },
        "height": 650,
        "template": {
         "data": {
          "bar": [
           {
            "error_x": {
             "color": "#2a3f5f"
            },
            "error_y": {
             "color": "#2a3f5f"
            },
            "marker": {
             "line": {
              "color": "#E5ECF6",
              "width": 0.5
             },
             "pattern": {
              "fillmode": "overlay",
              "size": 10,
              "solidity": 0.2
             }
            },
            "type": "bar"
           }
          ],
          "barpolar": [
           {
            "marker": {
             "line": {
              "color": "#E5ECF6",
              "width": 0.5
             },
             "pattern": {
              "fillmode": "overlay",
              "size": 10,
              "solidity": 0.2
             }
            },
            "type": "barpolar"
           }
          ],
          "carpet": [
           {
            "aaxis": {
             "endlinecolor": "#2a3f5f",
             "gridcolor": "white",
             "linecolor": "white",
             "minorgridcolor": "white",
             "startlinecolor": "#2a3f5f"
            },
            "baxis": {
             "endlinecolor": "#2a3f5f",
             "gridcolor": "white",
             "linecolor": "white",
             "minorgridcolor": "white",
             "startlinecolor": "#2a3f5f"
            },
            "type": "carpet"
           }
          ],
          "choropleth": [
           {
            "colorbar": {
             "outlinewidth": 0,
             "ticks": ""
            },
            "type": "choropleth"
           }
          ],
          "contour": [
           {
            "colorbar": {
             "outlinewidth": 0,
             "ticks": ""
            },
            "colorscale": [
             [
              0,
              "#0d0887"
             ],
             [
              0.1111111111111111,
              "#46039f"
             ],
             [
              0.2222222222222222,
              "#7201a8"
             ],
             [
              0.3333333333333333,
              "#9c179e"
             ],
             [
              0.4444444444444444,
              "#bd3786"
             ],
             [
              0.5555555555555556,
              "#d8576b"
             ],
             [
              0.6666666666666666,
              "#ed7953"
             ],
             [
              0.7777777777777778,
              "#fb9f3a"
             ],
             [
              0.8888888888888888,
              "#fdca26"
             ],
             [
              1,
              "#f0f921"
             ]
            ],
            "type": "contour"
           }
          ],
          "contourcarpet": [
           {
            "colorbar": {
             "outlinewidth": 0,
             "ticks": ""
            },
            "type": "contourcarpet"
           }
          ],
          "heatmap": [
           {
            "colorbar": {
             "outlinewidth": 0,
             "ticks": ""
            },
            "colorscale": [
             [
              0,
              "#0d0887"
             ],
             [
              0.1111111111111111,
              "#46039f"
             ],
             [
              0.2222222222222222,
              "#7201a8"
             ],
             [
              0.3333333333333333,
              "#9c179e"
             ],
             [
              0.4444444444444444,
              "#bd3786"
             ],
             [
              0.5555555555555556,
              "#d8576b"
             ],
             [
              0.6666666666666666,
              "#ed7953"
             ],
             [
              0.7777777777777778,
              "#fb9f3a"
             ],
             [
              0.8888888888888888,
              "#fdca26"
             ],
             [
              1,
              "#f0f921"
             ]
            ],
            "type": "heatmap"
           }
          ],
          "histogram": [
           {
            "marker": {
             "pattern": {
              "fillmode": "overlay",
              "size": 10,
              "solidity": 0.2
             }
            },
            "type": "histogram"
           }
          ],
          "histogram2d": [
           {
            "colorbar": {
             "outlinewidth": 0,
             "ticks": ""
            },
            "colorscale": [
             [
              0,
              "#0d0887"
             ],
             [
              0.1111111111111111,
              "#46039f"
             ],
             [
              0.2222222222222222,
              "#7201a8"
             ],
             [
              0.3333333333333333,
              "#9c179e"
             ],
             [
              0.4444444444444444,
              "#bd3786"
             ],
             [
              0.5555555555555556,
              "#d8576b"
             ],
             [
              0.6666666666666666,
              "#ed7953"
             ],
             [
              0.7777777777777778,
              "#fb9f3a"
             ],
             [
              0.8888888888888888,
              "#fdca26"
             ],
             [
              1,
              "#f0f921"
             ]
            ],
            "type": "histogram2d"
           }
          ],
          "histogram2dcontour": [
           {
            "colorbar": {
             "outlinewidth": 0,
             "ticks": ""
            },
            "colorscale": [
             [
              0,
              "#0d0887"
             ],
             [
              0.1111111111111111,
              "#46039f"
             ],
             [
              0.2222222222222222,
              "#7201a8"
             ],
             [
              0.3333333333333333,
              "#9c179e"
             ],
             [
              0.4444444444444444,
              "#bd3786"
             ],
             [
              0.5555555555555556,
              "#d8576b"
             ],
             [
              0.6666666666666666,
              "#ed7953"
             ],
             [
              0.7777777777777778,
              "#fb9f3a"
             ],
             [
              0.8888888888888888,
              "#fdca26"
             ],
             [
              1,
              "#f0f921"
             ]
            ],
            "type": "histogram2dcontour"
           }
          ],
          "mesh3d": [
           {
            "colorbar": {
             "outlinewidth": 0,
             "ticks": ""
            },
            "type": "mesh3d"
           }
          ],
          "parcoords": [
           {
            "line": {
             "colorbar": {
              "outlinewidth": 0,
              "ticks": ""
             }
            },
            "type": "parcoords"
           }
          ],
          "pie": [
           {
            "automargin": true,
            "type": "pie"
           }
          ],
          "scatter": [
           {
            "fillpattern": {
             "fillmode": "overlay",
             "size": 10,
             "solidity": 0.2
            },
            "type": "scatter"
           }
          ],
          "scatter3d": [
           {
            "line": {
             "colorbar": {
              "outlinewidth": 0,
              "ticks": ""
             }
            },
            "marker": {
             "colorbar": {
              "outlinewidth": 0,
              "ticks": ""
             }
            },
            "type": "scatter3d"
           }
          ],
          "scattercarpet": [
           {
            "marker": {
             "colorbar": {
              "outlinewidth": 0,
              "ticks": ""
             }
            },
            "type": "scattercarpet"
           }
          ],
          "scattergeo": [
           {
            "marker": {
             "colorbar": {
              "outlinewidth": 0,
              "ticks": ""
             }
            },
            "type": "scattergeo"
           }
          ],
          "scattergl": [
           {
            "marker": {
             "colorbar": {
              "outlinewidth": 0,
              "ticks": ""
             }
            },
            "type": "scattergl"
           }
          ],
          "scattermap": [
           {
            "marker": {
             "colorbar": {
              "outlinewidth": 0,
              "ticks": ""
             }
            },
            "type": "scattermap"
           }
          ],
          "scattermapbox": [
           {
            "marker": {
             "colorbar": {
              "outlinewidth": 0,
              "ticks": ""
             }
            },
            "type": "scattermapbox"
           }
          ],
          "scatterpolar": [
           {
            "marker": {
             "colorbar": {
              "outlinewidth": 0,
              "ticks": ""
             }
            },
            "type": "scatterpolar"
           }
          ],
          "scatterpolargl": [
           {
            "marker": {
             "colorbar": {
              "outlinewidth": 0,
              "ticks": ""
             }
            },
            "type": "scatterpolargl"
           }
          ],
          "scatterternary": [
           {
            "marker": {
             "colorbar": {
              "outlinewidth": 0,
              "ticks": ""
             }
            },
            "type": "scatterternary"
           }
          ],
          "surface": [
           {
            "colorbar": {
             "outlinewidth": 0,
             "ticks": ""
            },
            "colorscale": [
             [
              0,
              "#0d0887"
             ],
             [
              0.1111111111111111,
              "#46039f"
             ],
             [
              0.2222222222222222,
              "#7201a8"
             ],
             [
              0.3333333333333333,
              "#9c179e"
             ],
             [
              0.4444444444444444,
              "#bd3786"
             ],
             [
              0.5555555555555556,
              "#d8576b"
             ],
             [
              0.6666666666666666,
              "#ed7953"
             ],
             [
              0.7777777777777778,
              "#fb9f3a"
             ],
             [
              0.8888888888888888,
              "#fdca26"
             ],
             [
              1,
              "#f0f921"
             ]
            ],
            "type": "surface"
           }
          ],
          "table": [
           {
            "cells": {
             "fill": {
              "color": "#EBF0F8"
             },
             "line": {
              "color": "white"
             }
            },
            "header": {
             "fill": {
              "color": "#C8D4E3"
             },
             "line": {
              "color": "white"
             }
            },
            "type": "table"
           }
          ]
         },
         "layout": {
          "annotationdefaults": {
           "arrowcolor": "#2a3f5f",
           "arrowhead": 0,
           "arrowwidth": 1
          },
          "autotypenumbers": "strict",
          "coloraxis": {
           "colorbar": {
            "outlinewidth": 0,
            "ticks": ""
           }
          },
          "colorscale": {
           "diverging": [
            [
             0,
             "#8e0152"
            ],
            [
             0.1,
             "#c51b7d"
            ],
            [
             0.2,
             "#de77ae"
            ],
            [
             0.3,
             "#f1b6da"
            ],
            [
             0.4,
             "#fde0ef"
            ],
            [
             0.5,
             "#f7f7f7"
            ],
            [
             0.6,
             "#e6f5d0"
            ],
            [
             0.7,
             "#b8e186"
            ],
            [
             0.8,
             "#7fbc41"
            ],
            [
             0.9,
             "#4d9221"
            ],
            [
             1,
             "#276419"
            ]
           ],
           "sequential": [
            [
             0,
             "#0d0887"
            ],
            [
             0.1111111111111111,
             "#46039f"
            ],
            [
             0.2222222222222222,
             "#7201a8"
            ],
            [
             0.3333333333333333,
             "#9c179e"
            ],
            [
             0.4444444444444444,
             "#bd3786"
            ],
            [
             0.5555555555555556,
             "#d8576b"
            ],
            [
             0.6666666666666666,
             "#ed7953"
            ],
            [
             0.7777777777777778,
             "#fb9f3a"
            ],
            [
             0.8888888888888888,
             "#fdca26"
            ],
            [
             1,
             "#f0f921"
            ]
           ],
           "sequentialminus": [
            [
             0,
             "#0d0887"
            ],
            [
             0.1111111111111111,
             "#46039f"
            ],
            [
             0.2222222222222222,
             "#7201a8"
            ],
            [
             0.3333333333333333,
             "#9c179e"
            ],
            [
             0.4444444444444444,
             "#bd3786"
            ],
            [
             0.5555555555555556,
             "#d8576b"
            ],
            [
             0.6666666666666666,
             "#ed7953"
            ],
            [
             0.7777777777777778,
             "#fb9f3a"
            ],
            [
             0.8888888888888888,
             "#fdca26"
            ],
            [
             1,
             "#f0f921"
            ]
           ]
          },
          "colorway": [
           "#636efa",
           "#EF553B",
           "#00cc96",
           "#ab63fa",
           "#FFA15A",
           "#19d3f3",
           "#FF6692",
           "#B6E880",
           "#FF97FF",
           "#FECB52"
          ],
          "font": {
           "color": "#2a3f5f"
          },
          "geo": {
           "bgcolor": "white",
           "lakecolor": "white",
           "landcolor": "#E5ECF6",
           "showlakes": true,
           "showland": true,
           "subunitcolor": "white"
          },
          "hoverlabel": {
           "align": "left"
          },
          "hovermode": "closest",
          "mapbox": {
           "style": "light"
          },
          "paper_bgcolor": "white",
          "plot_bgcolor": "#E5ECF6",
          "polar": {
           "angularaxis": {
            "gridcolor": "white",
            "linecolor": "white",
            "ticks": ""
           },
           "bgcolor": "#E5ECF6",
           "radialaxis": {
            "gridcolor": "white",
            "linecolor": "white",
            "ticks": ""
           }
          },
          "scene": {
           "xaxis": {
            "backgroundcolor": "#E5ECF6",
            "gridcolor": "white",
            "gridwidth": 2,
            "linecolor": "white",
            "showbackground": true,
            "ticks": "",
            "zerolinecolor": "white"
           },
           "yaxis": {
            "backgroundcolor": "#E5ECF6",
            "gridcolor": "white",
            "gridwidth": 2,
            "linecolor": "white",
            "showbackground": true,
            "ticks": "",
            "zerolinecolor": "white"
           },
           "zaxis": {
            "backgroundcolor": "#E5ECF6",
            "gridcolor": "white",
            "gridwidth": 2,
            "linecolor": "white",
            "showbackground": true,
            "ticks": "",
            "zerolinecolor": "white"
           }
          },
          "shapedefaults": {
           "line": {
            "color": "#2a3f5f"
           }
          },
          "ternary": {
           "aaxis": {
            "gridcolor": "white",
            "linecolor": "white",
            "ticks": ""
           },
           "baxis": {
            "gridcolor": "white",
            "linecolor": "white",
            "ticks": ""
           },
           "bgcolor": "#E5ECF6",
           "caxis": {
            "gridcolor": "white",
            "linecolor": "white",
            "ticks": ""
           }
          },
          "title": {
           "x": 0.05
          },
          "xaxis": {
           "automargin": true,
           "gridcolor": "white",
           "linecolor": "white",
           "ticks": "",
           "title": {
            "standoff": 15
           },
           "zerolinecolor": "white",
           "zerolinewidth": 2
          },
          "yaxis": {
           "automargin": true,
           "gridcolor": "white",
           "linecolor": "white",
           "ticks": "",
           "title": {
            "standoff": 15
           },
           "zerolinecolor": "white",
           "zerolinewidth": 2
          }
         }
        },
        "title": {
         "text": "Flows by Movement Type (Start → End)"
        },
        "width": 1100
       }
      }
     },
     "metadata": {},
     "output_type": "display_data"
    }
   ],
   "source": [
    "# Analyse der Movement-Types und Sankey-Diagramm (StartType -> EndType)\n",
    "\n",
    "import pandas as pd\n",
    "import plotly.graph_objects as go\n",
    "from plotly.colors import qualitative\n",
    "\n",
    "# --- Checks ---\n",
    "if 'Movement-Type' not in trip_df.columns:\n",
    "    raise ValueError(\"Spalte 'Movement-Type' wurde nicht gefunden. Bitte sicherstellen, dass trip_df diese Spalte enthält.\")\n",
    "\n",
    "# --- 1) Movement-Types untersuchen ---\n",
    "movement = trip_df['Movement-Type'].dropna().astype(str).str.strip()\n",
    "movement = movement[movement != \"\"]\n",
    "\n",
    "# Anzahl und Häufigkeit der Movement-Type-Paare (z.B. 'Station:Station', 'Station:Freefloating', ...)\n",
    "pair_counts = movement.value_counts().reset_index()\n",
    "pair_counts.columns = ['Movement-Type', 'count']\n",
    "\n",
    "print(\"Anzahl eindeutiger Movement-Types (Paare 'Start:End'):\", pair_counts.shape[0])\n",
    "print(\"\\nTop 10 Movement-Types nach Häufigkeit:\")\n",
    "print(pair_counts.head(10).to_string(index=False))\n",
    "\n",
    "# --- 2) Start-/End-Typen aus Movement-Type ableiten ---\n",
    "split = movement.str.split(':', n=1, expand=True)\n",
    "start_types_series = split[0].str.strip().replace('', 'Unknown')\n",
    "end_types_series   = split[1].str.strip().fillna('Unknown').replace('', 'Unknown') if split.shape[1] > 1 else pd.Series(['Unknown'] * len(split), index=split.index)\n",
    "\n",
    "df_types = pd.DataFrame({'StartType': start_types_series, 'EndType': end_types_series})\n",
    "\n",
    "# Auch die Anzahl eindeutiger Basistypen (über beide Seiten) ausgeben\n",
    "unique_start_types = sorted(df_types['StartType'].unique())\n",
    "unique_end_types   = sorted(df_types['EndType'].unique())\n",
    "unique_types_union = sorted(set(unique_start_types) | set(unique_end_types))\n",
    "\n",
    "print(\"\\nEindeutige Start-Typen:\", len(unique_start_types), unique_start_types)\n",
    "print(\"Eindeutige End-Typen:\", len(unique_end_types), unique_end_types)\n",
    "print(\"Eindeutige Basistypen gesamt (Union):\", len(unique_types_union), unique_types_union)\n",
    "\n",
    "# --- 3) Flows aggregieren ---\n",
    "flows = (\n",
    "    df_types\n",
    "    .groupby(['StartType', 'EndType'])\n",
    "    .size()\n",
    "    .reset_index(name='count')\n",
    "    .sort_values('count', ascending=False)\n",
    ")\n",
    "\n",
    "if flows.empty:\n",
    "    raise ValueError(\"Keine Flows vorhanden (prüfe Daten in 'Movement-Type').\")\n",
    "\n",
    "# --- 4) Sankey vorbereiten ---\n",
    "start_nodes = sorted(flows['StartType'].unique())\n",
    "end_nodes   = sorted(flows['EndType'].unique())\n",
    "all_nodes   = [f\"{s} (Start)\" for s in start_nodes] + [f\"{e} (End)\" for e in end_nodes]\n",
    "\n",
    "node_index = {name: i for i, name in enumerate(all_nodes)}\n",
    "\n",
    "def hex_to_rgba(hex_color, alpha=1.0):\n",
    "    if not isinstance(hex_color, str):\n",
    "        return hex_color\n",
    "    if hex_color.startswith('rgba(') or hex_color.startswith('rgb('):\n",
    "        return hex_color\n",
    "    if not hex_color.startswith('#') or len(hex_color) != 7:\n",
    "        return hex_color\n",
    "    h = hex_color.lstrip('#')\n",
    "    r, g, b = int(h[0:2], 16), int(h[2:4], 16), int(h[4:6], 16)\n",
    "    return f'rgba({r},{g},{b},{alpha})'\n",
    "\n",
    "palette = qualitative.Bold\n",
    "categories = sorted(set(start_nodes + end_nodes))  # nicht genutzt für Mapping; Mapping basiert auf Basistypen unten\n",
    "\n",
    "base_cats = sorted(set(start_nodes + end_nodes))  # nur zur Vollständigkeit\n",
    "base_types = sorted(set(start_nodes + end_nodes))  # nicht benötigt\n",
    "\n",
    "# Farbzuordnung pro Basistyp (ohne Suffix), konsistent für Start/End\n",
    "base_types_unique = sorted(set(list(flows['StartType'].unique()) + list(flows['EndType'].unique())))\n",
    "color_map = {bt: palette[i % len(palette)] for i, bt in enumerate(base_types_unique)}\n",
    "\n",
    "# Node-Farben\n",
    "node_colors = []\n",
    "for n in all_nodes:\n",
    "    if n.endswith(' (Start)'):\n",
    "        bt = n.replace(' (Start)', '')\n",
    "        node_colors.append(color_map.get(bt, '#cccccc'))         # Start-Knoten: volle Deckkraft\n",
    "    else:\n",
    "        bt = n.replace(' (End)', '')\n",
    "        node_colors.append(hex_to_rgba(color_map.get(bt, '#cccccc'), 0.8))  # End-Knoten: leicht transparent\n",
    "\n",
    "# Links\n",
    "link_sources = [node_index[f\"{s} (Start)\"] for s in flows['StartType']]\n",
    "link_targets = [node_index[f\"{e} (End)\"] for e in flows['EndType']]\n",
    "link_values  = flows['count'].tolist()\n",
    "link_colors  = [hex_to_rgba(color_map.get(s, '#cccccc'), 0.45) for s in flows['StartType']]\n",
    "\n",
    "# Tooltips mit Prozentanteil\n",
    "total = flows['count'].sum()\n",
    "flows['percent'] = (flows['count'] / total * 100.0).round(2)\n",
    "\n",
    "node_start_sums = flows.groupby('StartType')['count'].sum().to_dict()\n",
    "node_end_sums   = flows.groupby('EndType')['count'].sum().to_dict()\n",
    "\n",
    "node_tooltips = []\n",
    "for n in all_nodes:\n",
    "    if n.endswith(' (Start)'):\n",
    "        bt = n.replace(' (Start)', '')\n",
    "        val = node_start_sums.get(bt, 0)\n",
    "        pct = (val / total * 100.0) if total > 0 else 0.0\n",
    "        node_tooltips.append(f\"{bt} (Start)<br>Fahrten: {val}<br>Anteil: {pct:.2f}%\")\n",
    "    else:\n",
    "        bt = n.replace(' (End)', '')\n",
    "        val = node_end_sums.get(bt, 0)\n",
    "        pct = (val / total * 100.0) if total > 0 else 0.0\n",
    "        node_tooltips.append(f\"{bt} (End)<br>Fahrten: {val}<br>Anteil: {pct:.2f}%\")\n",
    "\n",
    "link_tooltips = [\n",
    "    f\"Start: {s} → End: {e}<br>Fahrten: {c}<br>Anteil: {p:.2f}%\"\n",
    "    for s, e, c, p in zip(flows['StartType'], flows['EndType'], flows['count'], flows['percent'])\n",
    "]\n",
    "\n",
    "# --- 5) Sankey zeichnen ---\n",
    "fig = go.Figure(data=[go.Sankey(\n",
    "    node=dict(\n",
    "        pad=15,\n",
    "        thickness=16,\n",
    "        label=all_nodes,\n",
    "        color=node_colors,\n",
    "        customdata=node_tooltips,\n",
    "        hovertemplate='%{customdata}<extra></extra>'\n",
    "    ),\n",
    "    link=dict(\n",
    "        source=link_sources,\n",
    "        target=link_targets,\n",
    "        value=link_values,\n",
    "        color=link_colors,\n",
    "        customdata=link_tooltips,\n",
    "        hovertemplate='%{customdata}<extra></extra>'\n",
    "    )\n",
    ")])\n",
    "\n",
    "fig.update_layout(\n",
    "    title_text=\"Flows by Movement Type (Start → End)\",\n",
    "    font_size=14,\n",
    "    width=1100,\n",
    "    height=650\n",
    ")\n",
    "\n",
    "fig.show()\n"
   ]
  }
 ],
 "metadata": {
  "kernelspec": {
   "display_name": "venv (3.13.1)",
   "language": "python",
   "name": "python3"
  },
  "language_info": {
   "codemirror_mode": {
    "name": "ipython",
    "version": 3
   },
   "file_extension": ".py",
   "mimetype": "text/x-python",
   "name": "python",
   "nbconvert_exporter": "python",
   "pygments_lexer": "ipython3",
   "version": "3.13.1"
  }
 },
 "nbformat": 4,
 "nbformat_minor": 5
}
